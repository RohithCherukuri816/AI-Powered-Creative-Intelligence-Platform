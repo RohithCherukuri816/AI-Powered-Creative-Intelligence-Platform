{
  "cells": [
    {
      "cell_type": "markdown",
      "metadata": {},
      "source": [
        "# Colab Backend for AI Creative Platform\n",
        "Run this to start a GPU-backed FastAPI server that mirrors your local API.\n"
      ]
    },
    {
      "cell_type": "code",
      "execution_count": null,
      "metadata": {},
      "outputs": [],
      "source": [
        "!pip -q install -r colab_backend/requirements.txt\n"
      ]
    },
    {
      "cell_type": "code",
      "execution_count": null,
      "metadata": {},
      "outputs": [],
      "source": [
        "import os\n",
        "os.environ['HUGGINGFACE_TOKEN'] = os.getenv('HUGGINGFACE_TOKEN', '')\n",
        "os.environ['CORS_ALLOWED_ORIGINS'] = os.getenv('CORS_ALLOWED_ORIGINS', 'http://localhost:5173')\n",
        "print('CUDA available:', __import__('torch').cuda.is_available())\n"
      ]
    },
    {
      "cell_type": "code",
      "execution_count": null,
      "metadata": {},
      "outputs": [],
      "source": [
        "# Import the necessary libraries\n",
        "!pip -q install pyngrok\n",
        "\n",
        "# NOTE: You MUST have your ngrok token stored in Colab Secrets \n",
        "# with the name 'NGROK_AUTH_TOKEN' for this to work.\n",
        "\n",
        "from pyngrok import ngrok\n",
        "from google.colab import userdata \n",
        "import subprocess\n",
        "import sys\n",
        "\n",
        "# --- 1. NGROK AUTHENTICATION ---\n",
        "# Retrieve the token securely from Colab Secrets\n",
        "ngrok_token = userdata.get('NGROK_AUTH_TOKEN')\n",
        "\n",
        "# Set the authentication token for pyngrok\n",
        "if ngrok_token:\n",
        "    ngrok.set_auth_token(ngrok_token)\n",
        "else:\n",
        "    print(\"ERROR: NGROK_AUTH_TOKEN not found in Colab Secrets. Please set it!\")\n",
        "    # If the token is missing, we stop here to avoid the error.\n",
        "    # If you proceed without the token, the cell will crash with ERR_NGROK_4018\n",
        "    # You may need to replace 'sys.exit()' with 'raise SystemExit()' or similar \n",
        "    # if you encounter issues within Colab's interactive environment.\n",
        "    \n",
        "# --- 2. CONNECT TO PORT 8000 ---\n",
        "# Creates the public tunnel to the server we are about to launch.\n",
        "public_url = ngrok.connect(8000, 'http')\n",
        "print('Public URL:', public_url)\n",
        "\n",
        "# --- 3. LAUNCH SERVER IN BACKGROUND ---\n",
        "# Launches the Uvicorn server for the app located at 'colab_backend.app:app'\n",
        "# It runs on the same port (8000) that ngrok is tunneling to.\n",
        "# This subprocess runs in the background, allowing the cell to finish execution.\n",
        "proc = subprocess.Popen(\n",
        "    [\n",
        "        sys.executable, \n",
        "        '-m', \n",
        "        'uvicorn', \n",
        "        'colab_backend.app:app', \n",
        "        '--host', \n",
        "        '0.0.0.0', \n",
        "        '--port', \n",
        "        '8000'\n",
        "    ]\n",
        ")\n",
        "\n",
        "# Display the process object (useful for debugging, but the URL is the main output)\n",
        "proc"
      ]
    }
  ],
  "metadata": {
    "language_info": {
      "name": "python"
    }
  },
  "nbformat": 4,
  "nbformat_minor": 2
}
